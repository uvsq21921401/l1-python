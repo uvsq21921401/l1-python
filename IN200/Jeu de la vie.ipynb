{
 "metadata": {
  "language_info": {
   "codemirror_mode": {
    "name": "ipython",
    "version": 3
   },
   "file_extension": ".py",
   "mimetype": "text/x-python",
   "name": "python",
   "nbconvert_exporter": "python",
   "pygments_lexer": "ipython3",
   "version": "3.8.5-final"
  },
  "orig_nbformat": 2,
  "kernelspec": {
   "name": "python3",
   "display_name": "Python 3.8.5 64-bit ('l1-python': conda)",
   "metadata": {
    "interpreter": {
     "hash": "ec862206d8405247e3003360a092d3abf3ebcc1b865015b16225ca27bd9434a9"
    }
   }
  }
 },
 "nbformat": 4,
 "nbformat_minor": 2,
 "cells": [
  {
   "cell_type": "code",
   "execution_count": null,
   "metadata": {},
   "outputs": [],
   "source": [
    "###Le jeu de la vie est un « jeu à zéro joueur », puisqu il ne nécessite pas l intervention du joueur lors de son déroulement. Il s’agit d’un automate cellulaire, un modèle où chaque état conduit mécaniquement à l’état suivant à partir de règles pré-établies.\n",
    "\n",
    "###Le jeu se déroule sur une grille à deux dimensions, théoriquement infinie (mais de longueur et de largeur finies et plus ou moins grandes dans la pratique), dont les cases — qu’on appelle des « cellules », par analogie avec les cellules vivantes — peuvent prendre deux états distincts : « vivante » ou « morte ».\n",
    "\n",
    "###Une cellule possède huit voisins, qui sont les cellules adjacentes horizontalement, verticalement et diagonalement.\n",
    "\n",
    "###À chaque étape, l’évolution d’une cellule est entièrement déterminée par l’état de ses huit voisines de la façon suivante :\n",
    "\n",
    "###Une chute de « bombes » non périodique. Une cellule morte possédant exactement trois voisines vivantes devient vivante (elle naît), une cellule vivante possédant deux ou trois voisines vivantes le reste, sinon elle meurt."
   ]
  },
  {
   "cell_type": "code",
   "execution_count": 5,
   "metadata": {},
   "outputs": [],
   "source": [
    "####################################################\n",
    "# Auteurs: \n",
    "# Pierre Coucheney\n",
    "# Toto\n",
    "# Groupe:\n",
    "# BI 5\n",
    "# https://github.com/coucheney/mardi_jeu_de_la_vie\n",
    "###################################################\n",
    "\n",
    "#####################\n",
    "# import des modules\n",
    "\n",
    "import tkinter as tk\n",
    "\n",
    "\n",
    "#####################\n",
    "# constantes\n",
    "\n",
    "HAUTEUR = 400\n",
    "LARGEUR = 600\n",
    "COULEUR_FOND = \"grey60\"\n",
    "COTE = 10\n",
    "COULEUR_QUADR = \"grey20\"\n",
    "\n",
    "###################\n",
    "# fonctions\n",
    "\n",
    "def quadrillage():\n",
    "    \"\"\"Dessine un quadrillage dans le canevas avec des carrés de côté COTE\"\"\"\n",
    "    y = 0\n",
    "    while y <= HAUTEUR:\n",
    "        canvas.create_line((0, y), (LARGEUR, y), fill=COULEUR_QUADR)\n",
    "        y += COTE\n",
    "    i = 0\n",
    "    while i * COTE <= LARGEUR:\n",
    "        x = i * COTE\n",
    "        canvas.create_line((x, 0), (x, HAUTEUR), fill=COULEUR_QUADR)\n",
    "        i += 1\n",
    "\n",
    "\n",
    "def xy_to_cl(x, y):\n",
    "    \"\"\"Retourne la colonne et la ligne correspondant au point du canevas de coordonnées (x,y)\"\"\"\n",
    "    pass\n",
    "\n",
    "\n",
    "def change_carre(event):\n",
    "    \"\"\"Change la couleur du carre à la position (event.x, event.y)\"\"\"\n",
    "    pass\n",
    "\n",
    "#####################\n",
    "# programme principal\n",
    "\n",
    "racine = tk.Tk()\n",
    "racine.title(\"Jeu de la vie\")\n",
    "\n",
    "# création des widgets\n",
    "canvas = tk.Canvas(racine, width=LARGEUR, height=HAUTEUR, bg=COULEUR_FOND)\n",
    "\n",
    "# placement des widgets\n",
    "canvas.grid(row=0)\n",
    "\n",
    "# liaison des événements\n",
    "canvas.bind(\"<Button-1>\", change_carre)\n",
    "\n",
    "\n",
    "quadrillage()\n",
    "\n",
    "\n",
    "\n",
    "racine.mainloop()"
   ]
  },
  {
   "cell_type": "code",
   "execution_count": null,
   "metadata": {},
   "outputs": [],
   "source": []
  }
 ]
}