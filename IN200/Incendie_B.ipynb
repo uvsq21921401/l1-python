{
 "metadata": {
  "language_info": {
   "codemirror_mode": {
    "name": "ipython",
    "version": 3
   },
   "file_extension": ".py",
   "mimetype": "text/x-python",
   "name": "python",
   "nbconvert_exporter": "python",
   "pygments_lexer": "ipython3",
   "version": 3
  },
  "orig_nbformat": 2
 },
 "nbformat": 4,
 "nbformat_minor": 2,
 "cells": [
  {
   "cell_type": "code",
   "execution_count": null,
   "metadata": {},
   "outputs": [],
   "source": [
    "#######################################\n",
    "# groupe Bi TD-04\n",
    "# BENKHEROUF Licia\n",
    "# DERIAN Filina\n",
    "# STAELENS Pauline\n",
    "# GUERFA Sarah\n",
    "# https://github.com/Liciasara/Groupe4\n",
    "#######################################\n",
    "\n",
    "#######################################\n",
    "# Import des librairies\n",
    "\n",
    "import tkinter as tk\n",
    "\n",
    "#######################################\n",
    "# Constantes (écrites en majuscule)\n",
    "\n",
    "LARGEUR = 500\n",
    "HAUTEUR = 500\n",
    "\n",
    "#######################################\n",
    "# Variables globales\n",
    "\n",
    "#######################################\n",
    "# Fonctions\n",
    "\n",
    "#######################################\n",
    "# Programme principale\n",
    "\n",
    "racine = tk.Tk()\n",
    "racine.title(\"Incendie\")\n",
    "\n",
    "# création des widgets\n",
    "\n",
    "canvas = tk.Canvas(racine, width=LARGEUR, height=HAUTEUR, bg=\"white\")\n",
    "\n",
    "# placement des widgets\n",
    "\n",
    "canvas.grid()\n",
    "\n",
    "racine.mainloop()"
   ]
  }
 ]
}