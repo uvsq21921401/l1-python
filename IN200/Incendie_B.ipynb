{
 "metadata": {
  "language_info": {
   "codemirror_mode": {
    "name": "ipython",
    "version": 3
   },
   "file_extension": ".py",
   "mimetype": "text/x-python",
   "name": "python",
   "nbconvert_exporter": "python",
   "pygments_lexer": "ipython3",
   "version": "3.8.5-final"
  },
  "orig_nbformat": 2,
  "kernelspec": {
   "name": "python3",
   "display_name": "Python 3.8.5 64-bit ('l1-python': conda)",
   "metadata": {
    "interpreter": {
     "hash": "ec862206d8405247e3003360a092d3abf3ebcc1b865015b16225ca27bd9434a9"
    }
   }
  }
 },
 "nbformat": 4,
 "nbformat_minor": 2,
 "cells": [
  {
   "cell_type": "code",
   "execution_count": 3,
   "metadata": {},
   "outputs": [],
   "source": [
    "#######################################\n",
    "# groupe Bi TD-04\n",
    "# BENKHEROUF Licia\n",
    "# DERIAN Filina\n",
    "# STAELENS Pauline\n",
    "# GUERFA Sarah\n",
    "# https://github.com/Liciasara/Groupe4\n",
    "#######################################\n",
    "\n",
    "#######################################\n",
    "# Import des librairies\n",
    "\n",
    "import tkinter as tk\n",
    "\n",
    "#######################################\n",
    "# Constantes (écrites en majuscule)\n",
    "\n",
    "LARGEUR = 500\n",
    "HAUTEUR = 500\n",
    "COTE = 10\n",
    "COULEUR_QUADR = \"grey60\"\n",
    "\n",
    "#######################################\n",
    "# Variables globales\n",
    "\n",
    "#######################################\n",
    "# Fonctions\n",
    "\n",
    "def quadrillage():\n",
    "    \"\"\"Dessine un quadrillage dans le canevas avec des carrés de côté COTE\"\"\"\n",
    "    y = 0\n",
    "    while y <= HAUTEUR:\n",
    "        canvas.create_line((0, y), (LARGEUR, y), fill=COULEUR_QUADR)\n",
    "        y += COTE\n",
    "    x = 0\n",
    "    while x <= LARGEUR:\n",
    "        canvas.create_line((x, 0), (x, HAUTEUR), fill=COULEUR_QUADR)\n",
    "        x += COTE\n",
    "\n",
    "#######################################\n",
    "# Programme principale\n",
    "\n",
    "racine = tk.Tk()\n",
    "racine.title(\"Incendie\")\n",
    "\n",
    "# Création des widgets\n",
    "\n",
    "canvas = tk.Canvas(racine, width=LARGEUR, height=HAUTEUR, bg=\"white\")\n",
    "\n",
    "# Placement des widgets\n",
    "\n",
    "canvas.grid()\n",
    "\n",
    "# Événements\n",
    "\n",
    "\"\"\"Trace le quadrillage\"\"\"\n",
    "quadrillage()\n",
    "\n",
    "racine.mainloop()"
   ]
  },
  {
   "cell_type": "code",
   "execution_count": null,
   "metadata": {},
   "outputs": [],
   "source": []
  }
 ]
}