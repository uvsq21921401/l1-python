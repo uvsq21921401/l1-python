{
 "metadata": {
  "language_info": {
   "codemirror_mode": {
    "name": "ipython",
    "version": 3
   },
   "file_extension": ".py",
   "mimetype": "text/x-python",
   "name": "python",
   "nbconvert_exporter": "python",
   "pygments_lexer": "ipython3",
   "version": "3.8.3"
  },
  "orig_nbformat": 2,
  "kernelspec": {
   "name": "python3",
   "display_name": "Python 3.8.3 64-bit ('base': conda)",
   "metadata": {
    "interpreter": {
     "hash": "569d6b7e9215e11aba41c6454007e5c1b78bad7df09dab765d8cf00362c40f03"
    }
   }
  }
 },
 "nbformat": 4,
 "nbformat_minor": 2,
 "cells": [
  {
   "cell_type": "code",
   "execution_count": 23,
   "metadata": {},
   "outputs": [
    {
     "output_type": "stream",
     "name": "stdout",
     "text": [
      "[1, 6, 3]\n",
      "[1, 6, 3]\n",
      "Exception in Tkinter callback\n",
      "Traceback (most recent call last):\n",
      "  File \"/opt/miniconda3/lib/python3.8/tkinter/__init__.py\", line 1883, in __call__\n",
      "    return self.func(*args)\n",
      "  File \"<ipython-input-23-b96812e1a2a7>\", line 26, in <lambda>\n",
      "    bouton = tk.Button(racine, text=\"Démarrer\", font = (\"times\", \"30\"), relief=\"groove\", command=lambda : mouvement(balle))\n",
      "  File \"<ipython-input-23-b96812e1a2a7>\", line 19, in mouvement\n",
      "    canvas.move(cercle, balle[1], balle[2])\n",
      "  File \"/opt/miniconda3/lib/python3.8/tkinter/__init__.py\", line 2915, in move\n",
      "    self.tk.call((self._w, 'move') + args)\n",
      "_tkinter.TclError: wrong # args: should be \".!canvas move tagOrId xAmount yAmount\"\n"
     ]
    }
   ],
   "source": [
    "##Exo n°1\n",
    "\n",
    "import tkinter as tk\n",
    "import random\n",
    "\n",
    "balle = []\n",
    "\n",
    "def creer_balle():\n",
    "    \"\"\"Crée une un rond avec une liste d'id\"\"\"\n",
    "    global balle\n",
    "    balle.append(canvas.create_oval((180, 280), (220, 320), fill=\"blue\"))\n",
    "    balle.extend([random.randint(1, 7), random.randint(1, 7)])\n",
    "    print(balle)\n",
    "\n",
    "def mouvement(balle): \n",
    "    \"\"\"Deplace la balle en fct de la liste d'id, en rappelant la fct elle même\"\"\"\n",
    "    global cercle\n",
    "    print(balle)\n",
    "    canvas.move(cercle, balle[1], balle[2])\n",
    "    racine.after(1000, affichage)\n",
    "\n",
    "racine = tk.Tk()\n",
    "\n",
    "racine.title(\"Exo n°1\")\n",
    "canvas = tk.Canvas(racine, bg=\"black\", height=600, width=400)\n",
    "canvas.grid()\n",
    "bouton = tk.Button(racine, text=\"Démarrer\", font = (\"times\", \"30\"), relief=\"groove\", command=lambda : mouvement(balle))\n",
    "bouton.grid()\n",
    "cercle = creer_balle()\n",
    "\n",
    "racine.mainloop()"
   ]
  },
  {
   "cell_type": "code",
   "execution_count": null,
   "metadata": {},
   "outputs": [],
   "source": []
  }
 ]
}