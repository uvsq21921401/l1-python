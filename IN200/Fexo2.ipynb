{
 "metadata": {
  "language_info": {
   "codemirror_mode": {
    "name": "ipython",
    "version": 3
   },
   "file_extension": ".py",
   "mimetype": "text/x-python",
   "name": "python",
   "nbconvert_exporter": "python",
   "pygments_lexer": "ipython3",
   "version": "3.8.3-final"
  },
  "orig_nbformat": 2,
  "kernelspec": {
   "name": "python3",
   "display_name": "Python 3.8.3 64-bit ('base': conda)",
   "metadata": {
    "interpreter": {
     "hash": "569d6b7e9215e11aba41c6454007e5c1b78bad7df09dab765d8cf00362c40f03"
    }
   }
  }
 },
 "nbformat": 4,
 "nbformat_minor": 2,
 "cells": [
  {
   "cell_type": "code",
   "execution_count": 57,
   "metadata": {},
   "outputs": [
    {
     "output_type": "stream",
     "name": "stdout",
     "text": [
      "[1, 6, 1]\n",
      "[1, -6, 1]\n",
      "[1, -2, 1]\n",
      "[1, -2, 1]\n",
      "[1, -5, 1]\n",
      "[1, -7, 1]\n",
      "[1, -5, 1]\n",
      "[1, -7, 1]\n",
      "[1, -5, 1]\n",
      "[1, -3, 1]\n",
      "[1, -3, 1]\n",
      "[1, -7, 1]\n",
      "[1, -5, 1]\n",
      "[1, -6, 1]\n",
      "[1, -3, 1]\n",
      "[1, -6, 1]\n",
      "[1, -2, 1]\n",
      "[1, -5, 1]\n",
      "[1, -5, 1]\n",
      "[1, -6, 1]\n",
      "[1, -4, 1]\n",
      "[1, -2, 1]\n",
      "[1, -4, 1]\n",
      "[1, -6, 1]\n",
      "[1, -4, 1]\n",
      "[1, -6, 1]\n",
      "[1, -7, 1]\n"
     ]
    }
   ],
   "source": [
    "##Exo n°1 (étape 7)\n",
    "\n",
    "import tkinter as tk\n",
    "import random\n",
    "\n",
    "balle = []\n",
    "cercle = 0\n",
    "dec = 0\n",
    "ID_after = 0\n",
    "\n",
    "def creer_balle():\n",
    "    \"\"\"Crée une un rond avec une liste d'id\"\"\"\n",
    "    global balle, cercle\n",
    "    cercle = canvas.create_oval((180, 280), (220, 320), fill=\"blue\")\n",
    "    balle.extend([cercle, random.randint(1, 7), random.randint(1, 7)])\n",
    "    print(balle)\n",
    "\n",
    "def OnOff():\n",
    "    \"\"\"Démarre et arrête la fonction mouvement\"\"\"\n",
    "    global dec, ID_after\n",
    "    if dec == 0 :\n",
    "        mouvement(balle)\n",
    "        bouton.configure(text=\"Arrêter\")\n",
    "        dec = 1\n",
    "    else :\n",
    "        racine.after_cancel(ID_after)\n",
    "        bouton.configure(text=\"Démarrer\")\n",
    "        dec = 0\n",
    "\n",
    "def mouvement(balle): \n",
    "    \"\"\"Deplace la balle en fct de la liste d'id, en rappelant la fct elle même\"\"\"\n",
    "    global cercle, ID_after\n",
    "    canvas.move(cercle, balle[1], balle[2])\n",
    "    rebond1(cercle, balle)\n",
    "    ID_after = racine.after(100, mouvement, balle)\n",
    "\n",
    "def rebond1(cercle, balle) :\n",
    "    if canvas.coords(cercle)[2] > 400 :\n",
    "        balle[1] = random.randint(-7, -2)\n",
    "        print(balle)\n",
    "    if canvas.coords(cercle)[3] > 600 :\n",
    "        balle[2] = random.randint(-7, -2)\n",
    "    return\n",
    "\n",
    "racine = tk.Tk()\n",
    "\n",
    "racine.title(\"Exo n°1\")\n",
    "canvas = tk.Canvas(racine, bg=\"black\", height=600, width=400)\n",
    "canvas.grid()\n",
    "bouton = tk.Button(racine, text=\"Démarrer\", font = (\"times\", \"30\"), relief=\"groove\", command=OnOff)\n",
    "bouton.grid()\n",
    "creer_balle()\n",
    "\n",
    "racine.mainloop()"
   ]
  },
  {
   "cell_type": "code",
   "execution_count": null,
   "metadata": {},
   "outputs": [],
   "source": [
    "# Exo n°2\n"
   ]
  }
 ]
}