{
 "metadata": {
  "language_info": {
   "codemirror_mode": {
    "name": "ipython",
    "version": 3
   },
   "file_extension": ".py",
   "mimetype": "text/x-python",
   "name": "python",
   "nbconvert_exporter": "python",
   "pygments_lexer": "ipython3",
   "version": "3.8.5-final"
  },
  "orig_nbformat": 2,
  "kernelspec": {
   "name": "python3",
   "display_name": "Python 3",
   "language": "python"
  }
 },
 "nbformat": 4,
 "nbformat_minor": 2,
 "cells": [
  {
   "cell_type": "code",
   "execution_count": null,
   "metadata": {},
   "outputs": [],
   "source": [
    "l = [[1, 2], [1, 2]]\n",
    "u = [1, 2]\n",
    "l2 = [u, u]\n",
    "l = [0][0]=0\n",
    "l2= [0][0]=0\n",
    "print(l[1][0], l2[1][0])"
   ]
  },
  {
   "cell_type": "code",
   "execution_count": null,
   "metadata": {},
   "outputs": [],
   "source": [
    "l = []\n",
    "for i in range (50) :\n",
    "    l.append(i+2)\n",
    "print([4:6])\n",
    "\n"
   ]
  },
  {
   "cell_type": "code",
   "execution_count": 6,
   "metadata": {},
   "outputs": [
    {
     "output_type": "stream",
     "name": "stdout",
     "text": [
      "None\n"
     ]
    }
   ],
   "source": [
    "def plus_3(liste) :\n",
    "    for i in liste :\n",
    "        i += 3\n",
    "        \n",
    "l = [10, 6, 7]\n",
    "print(plus_3(l))"
   ]
  },
  {
   "cell_type": "code",
   "execution_count": null,
   "metadata": {},
   "outputs": [],
   "source": [
    "def max_element(liste1, liste2) :\n",
    "    max = 0\n",
    "    max2 = 0\n",
    "    for i in range(len(liste1)) :\n",
    "        if max < i :\n",
    "            max = i\n",
    "    for j in range(len(liste2)) :\n",
    "        if max2 < j :\n",
    "            max2 = j\n",
    "    if max < max2 :\n",
    "        return(liste2)\n",
    "    elif max2 < max :\n",
    "        return(liste1)\n",
    "    else :\n",
    "        return(liste1)\n",
    "    \n"
   ]
  },
  {
   "cell_type": "code",
   "execution_count": null,
   "metadata": {},
   "outputs": [],
   "source": [
    "CC3"
   ]
  },
  {
   "cell_type": "code",
   "execution_count": 22,
   "metadata": {},
   "outputs": [],
   "source": [
    "import tkinter as tk\n",
    "\n",
    "x1 = -1\n",
    "y1 = -1\n",
    "cpt = 0\n",
    "cycle = 0\n",
    "lb = 0\n",
    "lv = 0\n",
    "text = \"Pause\"\n",
    "\n",
    "def ligne(event) :\n",
    "    global x1, y1, cpt, cycle, lb, lv\n",
    "    if cpt == 2 :\n",
    "        x1 = -1\n",
    "        y1 = -1\n",
    "        cpt = 1\n",
    "        cycle += 1\n",
    "    else : \n",
    "        cpt +=1\n",
    "        cycle +=1\n",
    "    if x1 == -1 :\n",
    "        x1 = event.x\n",
    "        y1 = event.y\n",
    "    else : \n",
    "        if cycle == 2 :\n",
    "            lb = canvas.create_line((x1, y1), (event.x, event.y), fill=\"blue\")\n",
    "        elif cycle == 4 :\n",
    "            lv = canvas.create_line((x1, y1), (event.x, event.y), fill=\"green\")\n",
    "    if cycle == 5 :\n",
    "        x1 = -1\n",
    "        y1 = -1\n",
    "        cpt = 0\n",
    "        cycle = 0\n",
    "        canvas.delete(lb)\n",
    "        canvas.delete(lv)\n",
    "\n",
    "def pause() :\n",
    "    global text\n",
    "    if text == \"Pause\" :\n",
    "        canvas.itemconfigure(bouton_P, text=\"Restart\")\n",
    "        text = \"Restart\"\n",
    "    else :\n",
    "        canvas.itemconfigure(bouton_P, text=\"Pause\")\n",
    "        text = \"Pause\"\n",
    "    \n",
    "\n",
    "\n",
    "\n",
    "cc3 = tk.Tk()\n",
    "\n",
    "cc3.title(\"CC3\")\n",
    "canvas = tk.Canvas(cc3, bg=\"black\", height=550, width=550)\n",
    "canvas.grid()\n",
    "bouton_P = tk.Button(cc3, text=\"Pause\", fg=\"black\", font = (\"times\", \"30\"), relief=\"groove\", command=pause)\n",
    "bouton_P.grid(row=0, column=1)\n",
    "cc3.bind(\"<Button-1>\", ligne)\n",
    "\n",
    "cc3.mainloop()"
   ]
  },
  {
   "cell_type": "code",
   "execution_count": null,
   "metadata": {},
   "outputs": [],
   "source": []
  }
 ]
}