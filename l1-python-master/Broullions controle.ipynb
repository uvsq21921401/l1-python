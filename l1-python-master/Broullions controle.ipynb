{
 "metadata": {
  "language_info": {
   "codemirror_mode": {
    "name": "ipython",
    "version": 3
   },
   "file_extension": ".py",
   "mimetype": "text/x-python",
   "name": "python",
   "nbconvert_exporter": "python",
   "pygments_lexer": "ipython3",
   "version": "3.8.5-final"
  },
  "orig_nbformat": 2,
  "kernelspec": {
   "name": "python3",
   "display_name": "Python 3"
  }
 },
 "nbformat": 4,
 "nbformat_minor": 2,
 "cells": [
  {
   "cell_type": "code",
   "execution_count": null,
   "metadata": {},
   "outputs": [],
   "source": [
    "l = [[1, 2], [1, 2]]\n",
    "u = [1, 2]\n",
    "l2 = [u, u]\n",
    "l = [0][0]=0\n",
    "l2= [0][0]=0\n",
    "print(l[1][0], l2[1][0])"
   ]
  },
  {
   "cell_type": "code",
   "execution_count": null,
   "metadata": {},
   "outputs": [],
   "source": [
    "l = []\n",
    "for i in range (50) :\n",
    "    l.append(i+2)\n",
    "print([4:6])\n",
    "\n"
   ]
  },
  {
   "cell_type": "code",
   "execution_count": 6,
   "metadata": {},
   "outputs": [
    {
     "output_type": "stream",
     "name": "stdout",
     "text": [
      "None\n"
     ]
    }
   ],
   "source": [
    "def plus_3(liste) :\n",
    "    for i in liste :\n",
    "        i += 3\n",
    "        \n",
    "l = [10, 6, 7]\n",
    "print(plus_3(l))"
   ]
  },
  {
   "cell_type": "code",
   "execution_count": null,
   "metadata": {},
   "outputs": [],
   "source": [
    "def max_element(liste1, liste2) :\n",
    "    max = 0\n",
    "    max2 = 0\n",
    "    for i in range(len(liste1)) :\n",
    "        if max < i :\n",
    "            max = i\n",
    "    for j in range(len(liste2)) :\n",
    "        if max2 < j :\n",
    "            max2 = j\n",
    "    if max < max2 :\n",
    "        return(liste2)\n",
    "    elif max2 < max :\n",
    "        return(liste1)\n",
    "    else :\n",
    "        return(liste1)\n",
    "    \n"
   ]
  },
  {
   "cell_type": "code",
   "execution_count": null,
   "metadata": {},
   "outputs": [],
   "source": []
  },
  {
   "cell_type": "code",
   "execution_count": null,
   "metadata": {},
   "outputs": [],
   "source": []
  }
 ]
}