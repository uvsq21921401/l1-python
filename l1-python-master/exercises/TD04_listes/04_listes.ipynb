{
 "cells": [
  {
   "cell_type": "markdown",
   "metadata": {},
   "source": [
    "# TD 4: Listes"
   ]
  },
  {
   "cell_type": "markdown",
   "metadata": {},
   "source": [
    "---\n",
    "\n",
    "## 1. Débuts avec les listes\n",
    "\n",
    "Dans cette partie, il faut écrire les réponses directement dans le notebook. En plus du cours, n'hésitez pas à consulter la documentation (tutoriel) Python sur les listes [ici (introduction aux listes)](https://docs.python.org/fr/3.6/tutorial/introduction.html#lists) et [ici (complément sur les listes)] (https://docs.python.org/fr/3/tutorial/datastructures.html#more-on-lists).\n",
    "\n",
    "1. Créer la liste `3, 5, 10`, l'affecter à une variable, puis l'afficher."
   ]
  },
  {
   "cell_type": "code",
   "execution_count": null,
   "metadata": {},
   "outputs": [],
   "source": [
    "liste = [3, 5, 10]\n",
    "print(liste)"
   ]
  },
  {
   "source": [
    "2. Ajouter ensuite 12 et 17 à la fin puis afficher à nouveau la liste."
   ],
   "cell_type": "markdown",
   "metadata": {}
  },
  {
   "cell_type": "code",
   "execution_count": null,
   "metadata": {},
   "outputs": [],
   "source": [
    "liste = [3, 5, 10]\n",
    "liste.extend([12, 17])\n",
    "print(liste)"
   ]
  },
  {
   "source": [
    "3. Changer le 10 en -7."
   ],
   "cell_type": "markdown",
   "metadata": {}
  },
  {
   "cell_type": "code",
   "execution_count": null,
   "metadata": {},
   "outputs": [],
   "source": [
    "liste = [3, 5, 10, 12, 17]\n",
    "liste[2] = -7\n",
    "print(liste)"
   ]
  },
  {
   "source": [
    "4. Avec une boucle `for`, écrire le double de chaque élément de la liste. Cela doit afficher `[6, 10, -14, 24, 34]`. La liste doit être modifiée."
   ],
   "cell_type": "markdown",
   "metadata": {}
  },
  {
   "cell_type": "code",
   "execution_count": null,
   "metadata": {},
   "outputs": [],
   "source": [
    "liste = [3, 5, -7, 12, 17]\n",
    "new_liste = []\n",
    "for i in liste :\n",
    "    i *= 2\n",
    "    new_liste.append(i)\n",
    "print(new_liste)"
   ]
  },
  {
   "cell_type": "code",
   "execution_count": null,
   "metadata": {},
   "outputs": [],
   "source": [
    "liste = [3, 5, -7, 12, 17]\n",
    "for n in range(len(liste)) :\n",
    "    liste[n] *= 2\n",
    "print(liste)"
   ]
  },
  {
   "source": [
    "5. A l'aide d'une boucle `for`, ajouter  la valeur `i` à l'élément d'indice `i` de la liste. Cela doit afficher `[6, 11, -12, 27, 38]`. La liste doit être modifiée."
   ],
   "cell_type": "markdown",
   "metadata": {}
  },
  {
   "cell_type": "code",
   "execution_count": null,
   "metadata": {},
   "outputs": [],
   "source": [
    "liste = [6, 10, -14, 24, 34]\n",
    "I = 0\n",
    "new_liste = []\n",
    "for i in liste :\n",
    "    i += I\n",
    "    I += 1\n",
    "    new_liste.append(i)\n",
    "print(new_liste)"
   ]
  },
  {
   "cell_type": "code",
   "execution_count": null,
   "metadata": {},
   "outputs": [],
   "source": [
    "liste = [6, 10, -14, 24, 34]\n",
    "for n in range(len(liste)) :\n",
    "    liste[n] += n\n",
    "print(liste)"
   ]
  },
  {
   "source": [
    "6. Tirer 10 nombres à 2 chiffres au hasard et les mettre dans une nouvelle liste (vide au départ), puis afficher la somme des entiers de la liste et le plus grand de ces entiers."
   ],
   "cell_type": "markdown",
   "metadata": {}
  },
  {
   "cell_type": "code",
   "execution_count": null,
   "metadata": {},
   "outputs": [],
   "source": [
    "import random\n",
    "liste = []\n",
    "somme = 0\n",
    "for i in range (0, 10) :\n",
    "    i = random.randint(10, 99)\n",
    "    somme += i\n",
    "    liste.append(i)\n",
    "#print(liste)\n",
    "liste.sort()\n",
    "#print(liste)\n",
    "print(somme)\n",
    "print(liste[9])"
   ]
  },
  {
   "source": [
    "7. A partir de la liste choisie au hasard, créer une liste qui contient les éléments pairs et une deuxième liste qui contient les éléments impairs."
   ],
   "cell_type": "markdown",
   "metadata": {}
  },
  {
   "cell_type": "code",
   "execution_count": null,
   "metadata": {},
   "outputs": [],
   "source": [
    "liste_pairs = []\n",
    "liste_impairs = []\n",
    "for i in liste :\n",
    "    if i % 2 == 0 :\n",
    "        liste_pairs.append(i)\n",
    "    else :\n",
    "        liste_impairs.append(i)\n",
    "print( liste_pairs, liste_impairs)"
   ]
  },
  {
   "source": [
    "8. Trier la liste choisie au hasard par ordre croissant en modifiant la liste."
   ],
   "cell_type": "markdown",
   "metadata": {}
  },
  {
   "cell_type": "code",
   "execution_count": null,
   "metadata": {},
   "outputs": [],
   "source": [
    "import random\n",
    "liste = []\n",
    "liste_triee = []\n",
    "for i in range (0, 10) :\n",
    "    i = random.randint(10, 99)\n",
    "    liste.append(i)\n",
    "print(liste)\n",
    "\n",
    "while liste != [] :\n",
    "    m = min(liste)\n",
    "    liste_triee.append(m)\n",
    "    liste.remove(m)\n",
    "print(liste_triee)"
   ]
  },
  {
   "cell_type": "code",
   "execution_count": null,
   "metadata": {},
   "outputs": [],
   "source": [
    "#Autre solution de trie\n",
    "def swap(l, pos1, pos2):\n",
    "    l[pos1], l[pos2] = l[pos2], l[pos1]\n",
    "\n",
    "def Trie_croissant(liste) :\n",
    "    if liste[0] > liste[1] :\n",
    "        swap(liste, 0, 1)\n",
    "        return\n",
    "    else :\n",
    "        return\n",
    "\n",
    "import random\n",
    "liste = []\n",
    "for i in range (0, 2) :\n",
    "    i = random.randint(0, 10)\n",
    "    liste.append(i)\n",
    "n = [0]\n",
    "m = [1]\n",
    "Trie_croissant(liste)\n",
    "print(liste)"
   ]
  },
  {
   "source": [
    "9. Supprimer le plus petit et le plus grand élément de la liste triée."
   ],
   "cell_type": "markdown",
   "metadata": {}
  },
  {
   "cell_type": "code",
   "execution_count": null,
   "metadata": {},
   "outputs": [],
   "source": [
    "liste_triee[1:-1]"
   ]
  },
  {
   "source": [
    "10. Créer la liste des entiers de 1 jusqu'à 52. Ces entiers représentent les cartes d'un paquet de 52 cartes."
   ],
   "cell_type": "markdown",
   "metadata": {}
  },
  {
   "cell_type": "code",
   "execution_count": 1,
   "metadata": {},
   "outputs": [
    {
     "output_type": "stream",
     "name": "stdout",
     "text": [
      "[1, 2, 3, 4, 5, 6, 7, 8, 9, 10, 11, 12, 13, 14, 15, 16, 17, 18, 19, 20, 21, 22, 23, 24, 25, 26, 27, 28, 29, 30, 31, 32, 33, 34, 35, 36, 37, 38, 39, 40, 41, 42, 43, 44, 45, 46, 47, 48, 49, 50, 51, 52]\n"
     ]
    }
   ],
   "source": [
    "liste = []\n",
    "for i in range(0, 52) :\n",
    "    i += 1\n",
    "    liste.append(i)\n",
    "print(liste)"
   ]
  },
  {
   "source": [
    " 11. Couper le jeu de carte revient à choisir un indice `i` entre 0 et 51, et à passer toutes les cartes allant des indices 0 à i-1 à la suite des cartes qui vont des indices i à 51. Ecrire le code qui effectue une coupe choisie au hasard."
   ],
   "cell_type": "markdown",
   "metadata": {}
  },
  {
   "cell_type": "code",
   "execution_count": 11,
   "metadata": {},
   "outputs": [
    {
     "output_type": "stream",
     "name": "stdout",
     "text": [
      "[22, 23, 24, 25, 26, 27, 28, 29, 30, 31, 32, 33, 34, 35, 36, 37, 38, 39, 40, 41, 42, 43, 44, 45, 46, 47, 48, 49, 50, 51, 0, 1, 2, 3, 4, 5, 6, 7, 8, 9, 10, 11, 12, 13, 14, 15, 16, 17, 18, 19, 20, 21]\n"
     ]
    }
   ],
   "source": [
    "import random\n",
    "i = random.randint(0, 51)\n",
    "print(liste[i:51]+[0]+liste[0:i])"
   ]
  },
  {
   "source": [
    "---\n",
    "\n",
    "## 2. Problème de Syracuse\n",
    "\n",
    "Cette partie est à traiter dans un script que vous pouvez appeler, par exemple, `syracuse.py`.\n",
    "\n",
    "En partant d'un entier `n` de départ, on définit une suite d'entiers en obtenant chaque nouveau terme à partir du précédent soit en le divisant par 2 s'il est pair, soit en le multipliant par 3 et en ajoutant 1 s'il est impair. \n",
    "\n",
    "1. Sans écrire de programme, calculer les premières valeurs de la suite en chosissant `n = 3`.\n",
    "\n",
    "2. Ecrire la fonction qui, à partir d'un entier initial, renvoie la liste des valeurs successives jusqu'à ce que la valeur `1` soit atteinte (le dernier élément de la liste est donc toujours 1)."
   ],
   "cell_type": "markdown",
   "metadata": {}
  },
  {
   "cell_type": "code",
   "execution_count": null,
   "metadata": {},
   "outputs": [],
   "source": [
    "def syracuse(n):\n",
    "    \"\"\" Retourne la liste des valeurs de la suite en partant de n jusqu'à 1 \"\"\"\n",
    "    liste =[]\n",
    "    while n != 1 :\n",
    "        if n % 2 == 0 :\n",
    "            n //= 2\n",
    "            liste.append(n)\n",
    "        elif n % 2 != 0 :\n",
    "            n *= 3\n",
    "            n += 1\n",
    "            liste.append(n)\n",
    "    return(n)\n",
    "\n",
    "print(syracuse(3))"
   ]
  },
  {
   "source": [
    "3. La conjecture de Collatz (ou problème de Syracuse) affirme que, quel que soit l’entier `n` que l’on choisisse au départ, on finit toujours par arriver à 1 (ce résultat est une *conjecture*, c'est-à-dire qu'il n'a pas été démontré, mais qu'il n'existe pas de contre-exemple connu). Écrire une fonction qui, en appelant la fonction précédente, va vérifier si la conjecture est vraie pour `n` de 1 à `n_max`, où `n_max` est un paramètre de la fonction. \n",
    "\n",
    "*Remarque*: si tout se passe bien, la fonction doit juste se terminer et renvoyer `True` par exemple. Sinon, c’est qu’on sera entré dans une boucle infinie."
   ],
   "cell_type": "markdown",
   "metadata": {}
  },
  {
   "cell_type": "code",
   "execution_count": null,
   "metadata": {
    "tags": []
   },
   "outputs": [],
   "source": [
    "def testeConjecture(n_max):\n",
    "    \"\"\" Teste la conjecture de Collatz pour toutes les valeurs de 2 à n_max \"\"\"\n",
    "    n_min = 1\n",
    "    while n_min < n_max :\n",
    "        n_min += 1\n",
    "        n = syracuse(n_min)\n",
    "        if n != 1 :\n",
    "            return False\n",
    "    return True\n",
    "\n",
    "print(testeConjecture(10000))"
   ]
  },
  {
   "source": [
    "4. On appelle *temps de vol* de l’entier `n` le nombre d’étapes pour aller de `n` jusqu’à 1. Le temps de vol de 1 est 0, le temps de vol de 3 est 7. Écrire une fonction qui, étant donné un paramètre `n`, renvoie son temps de vol."
   ],
   "cell_type": "markdown",
   "metadata": {}
  },
  {
   "cell_type": "code",
   "execution_count": null,
   "metadata": {},
   "outputs": [],
   "source": [
    "def tempsVol(n):\n",
    "    \"\"\" Retourne le temps de vol de n \"\"\"\n",
    "    liste = []\n",
    "    while n != 1 :\n",
    "        if n % 2 == 0 :\n",
    "            n //= 2\n",
    "            liste.append(n)\n",
    "        elif n % 2 != 0 :\n",
    "            n *= 3\n",
    "            n += 1\n",
    "            liste.append(n)\n",
    "    return len(liste)\n",
    "\n",
    "print(\"Le temps de vol de\", 3, \"est\", tempsVol(3))"
   ]
  },
  {
   "cell_type": "code",
   "execution_count": null,
   "metadata": {},
   "outputs": [],
   "source": [
    "def tempsVol(n):\n",
    "    \"\"\" Retourne le temps de vol de n \"\"\"\n",
    "    etape = 0\n",
    "    while n != 1 :\n",
    "        if n % 2 == 0 :\n",
    "            n //= 2\n",
    "            etape +=1\n",
    "        elif n % 2 != 0 :\n",
    "            n *= 3\n",
    "            n += 1\n",
    "            etape +=1\n",
    "    return etape\n",
    "\n",
    "print(\"Le temps de vol de\", 3, \"est\", tempsVol(3))"
   ]
  },
  {
   "source": [
    "5. Ecrire une fonction qui, étant donné un paramètre `n_max` renvoie la liste des temps de vol de tous les entiers de 1 à `n_max`. *Indication*: utiliser une liste en compréhension."
   ],
   "cell_type": "markdown",
   "metadata": {}
  },
  {
   "cell_type": "code",
   "execution_count": null,
   "metadata": {},
   "outputs": [],
   "source": [
    "def tempsVolListe(n_max):\n",
    "    \"\"\" Retourne la liste de tous les temps de vol de 1 à n_max \"\"\"\n",
    "    liste_max = [tempsVol(i + 1) for i in range(n_max)]\n",
    "    return liste_max\n",
    "\n",
    "print(tempsVolListe(100))"
   ]
  },
  {
   "source": [
    "6. Déterminer quel entier entre 1 et 10000 a le plus grand temps de vol (réponse 6171 qui a le temps de vol 261)."
   ],
   "cell_type": "markdown",
   "metadata": {}
  },
  {
   "cell_type": "code",
   "execution_count": null,
   "metadata": {},
   "outputs": [],
   "source": [
    "def Plus_Gd_tdv(l) :\n",
    "    max = 0\n",
    "    for i in l :\n",
    "        if i > max :\n",
    "            max = i\n",
    "    return max\n",
    "\n",
    "def Plus_Gd_v(l) :\n",
    "    max = 0\n",
    "    compteur = 0\n",
    "    max_compteur = 0\n",
    "    for i in l :\n",
    "        compteur += 1\n",
    "        if i > max :\n",
    "            max = i\n",
    "            max_compteur = compteur\n",
    "    return max_compteur\n",
    "\n",
    "print(Plus_Gd_v(tempsVolListe(10000)))"
   ]
  },
  {
   "source": [
    "7. L’altitude maximale de l'entier `n` est la plus grande valeur par laquelle passe `n` au cours de son vol. Déterminer quel entier entre 1 et 10000 a la plus grande altitude maximale (réponse 27114424, atteint par l'entier 9663). Ne pas hésiter à écrire de nouvelles fonctions pour cela."
   ],
   "cell_type": "markdown",
   "metadata": {}
  },
  {
   "cell_type": "code",
   "execution_count": null,
   "metadata": {
    "tags": []
   },
   "outputs": [],
   "source": [
    "def syracuse_max(n):\n",
    "    \"\"\" Retourne la plus grande valeurs de la suite de n \"\"\"\n",
    "    max_al = 0\n",
    "    while n != 1 :\n",
    "        if n % 2 == 0 :\n",
    "            n //= 2\n",
    "            if n > max_al :\n",
    "                max_al = n\n",
    "        elif n % 2 != 0 :\n",
    "            n *= 3\n",
    "            n += 1\n",
    "            if n > max_al :\n",
    "                max_al = n\n",
    "    return max_al\n",
    "\n",
    "def Liste_sy_max(n_max):\n",
    "    l = [syracuse_max(i + 1) for i in range(n_max)]\n",
    "    return l\n",
    "\n",
    "def plus_gd_al(n_max) :\n",
    "    l = Liste_sy_max(n_max)\n",
    "    l_max = 0\n",
    "    comteur = 0\n",
    "    comteur_max = 0\n",
    "    for i in l :\n",
    "        comteur += 1\n",
    "        if i > l_max :\n",
    "            l_max = i\n",
    "            comteur_max = comteur\n",
    "    return comteur_max\n",
    "\n",
    "print(plus_gd_al(10000))"
   ]
  },
  {
   "source": [
    "---\n",
    "\n",
    "## 3. Carré magique\n",
    "\n",
    "*Définition* extraite de [l'article Wikipedia sur le carré magique](https://fr.wikipedia.org/wiki/Carr%C3%A9_magique_(math%C3%A9matiques)): en mathématiques, un carré magique d’ordre $n$ est composé de $n^2$ entiers strictement positifs, écrits sous la forme d’un tableau carré. Ces nombres sont disposés de sorte que leurs sommes sur chaque rangée, sur chaque colonne et sur chaque diagonale principale soient égales. On nomme alors *constante magique* la valeur de ces sommes. \n",
    "\n",
    "Un exemple de carré magique:\n",
    "\n",
    "$$\\begin{bmatrix} 4 & 14 & 15 & 1 \\\\ 9 & 7 & 6 & 12 \\\\ 5 & 11 & 10 & 8 \\\\ 16 & 2 & 3 & 13 \\end{bmatrix}$$\n",
    "\n",
    "1. Sans écrire de programme, vérifier qu'il s'agit bien d'un carré magique, et donner sa constante magique.\n",
    "\n",
    "Les questions qui suivent doivent être traitées dans un script, qui peut s'appeler `carre_magique.py`. Pensez à utiliser [PythonTutor](http://pythontutor.com/) et les outils de programmation pour résoudre les problèmes qui pourraient survenir.\n",
    "\n",
    "2. Créer une liste à deux dimensions affectée à  la variable `carre_mag` contenant ce carré magique."
   ],
   "cell_type": "markdown",
   "metadata": {}
  },
  {
   "cell_type": "code",
   "execution_count": null,
   "metadata": {},
   "outputs": [],
   "source": [
    "carre_mag = [[0] * 4 for i in range(4)]\n",
    "for i in range(4) :\n",
    "    for j in range(4) :\n",
    "        carre_mag[0] = [4, 14, 15, 1]\n",
    "        carre_mag[1] = [9, 7, 6, 12]\n",
    "        carre_mag[2] = [5, 11, 10, 8]\n",
    "        carre_mag[3] = [16, 2, 3, 13]\n",
    "\n",
    "for i in carre_mag :\n",
    "    print(' '.join([str(j) for j in i]))"
   ]
  },
  {
   "source": [
    "3. Créer une deuxième liste affectée à la variable `carre_pas_mag` qui ne soit pas magique à partir du carré magique en changeant le 3 en 7. "
   ],
   "cell_type": "markdown",
   "metadata": {}
  },
  {
   "cell_type": "code",
   "execution_count": null,
   "metadata": {},
   "outputs": [],
   "source": [
    "carre_pas_mag = [[0] * 4 for i in range(4)]\n",
    "for i in range(4) :\n",
    "    for j in range(4) :\n",
    "        carre_pas_mag[0] = [4, 14, 15, 1]\n",
    "        carre_pas_mag[1] = [9, 7, 6, 12]\n",
    "        carre_pas_mag[2] = [5, 11, 10, 8]\n",
    "        carre_pas_mag[3] = [16, 2, 7, 13]\n",
    "\n",
    "for i in carre_pas_mag :\n",
    "    print(' '.join([str(j) for j in i]))"
   ]
  },
  {
   "source": [
    "4. Créer une fonction qui affiche la liste comme un carré."
   ],
   "cell_type": "markdown",
   "metadata": {}
  },
  {
   "cell_type": "code",
   "execution_count": null,
   "metadata": {},
   "outputs": [],
   "source": [
    "def afficheCarre(carre):\n",
    "    \"\"\" Affiche la liste à 2 dimensions carre comme un carré\"\"\"\n",
    "    for i in range(4) :\n",
    "        for j in range(4) :\n",
    "            carre[0]\n",
    "            carre[1]\n",
    "            carre[2]\n",
    "            carre[3]\n",
    "\n",
    "    for i in carre_pas_mag :\n",
    "        print(' '.join([str(j) for j in i]))\n",
    "\n",
    "carre_mag = [[4, 14, 15, 1], [9, 7, 6, 12], [5, 11, 10, 8], [16, 2, 3, 13]]\n",
    "carre_pas_mag = [[4, 14, 15, 1], [9, 7, 6, 12], [5, 11, 10, 8], [16, 2, 7, 13]]\n",
    "afficheCarre(carre_mag)\n",
    "afficheCarre(carre_pas_mag)\n"
   ]
  },
  {
   "source": [
    "5. Ecrire une fonction qui teste si les lignes du carré ont toutes la même somme. Cette fonction renvoie cette somme si c'est le cas, et `-1` sinon."
   ],
   "cell_type": "markdown",
   "metadata": {}
  },
  {
   "cell_type": "code",
   "execution_count": null,
   "metadata": {},
   "outputs": [],
   "source": [
    "def testLignesEgales(carre):\n",
    "    \"\"\" Renvoie la somme des éléments d'une ligne de la liste 2D carre si toutes les lignes ont la même somme, et -1 sinon \"\"\"\n",
    "    cst_mag = 0\n",
    "    for i in carre :\n",
    "        somme = i[0] + i[1] + i[2] + i[3]\n",
    "        cst_mag = somme\n",
    "        if cst_mag != 34 :\n",
    "            return -1\n",
    "    return cst_mag\n",
    "            \n",
    "\n",
    "carre_mag = [[4, 14, 15, 1], [9, 7, 6, 12], [5, 11, 10, 8], [16, 2, 3, 13]]\n",
    "carre_pas_mag = [[4, 14, 15, 1], [9, 7, 6, 12], [5, 11, 10, 8], [16, 2, 7, 13]]\n",
    "print(testLignesEgales(carre_mag))\n",
    "print(testLignesEgales(carre_pas_mag))\n"
   ]
  },
  {
   "cell_type": "code",
   "execution_count": 43,
   "metadata": {},
   "outputs": [
    {
     "output_type": "stream",
     "name": "stdout",
     "text": [
      "True\nFalse\n"
     ]
    }
   ],
   "source": [
    "def testLignesEgales(carre):\n",
    "    cote = len(carre)\n",
    "    first_sum = 0\n",
    "    # Verifier la somme de la première liste avec une boucle et la stocker dans first_sum\n",
    "    for h in range(cote) :\n",
    "        first_sum += carre[0][h]\n",
    "    for i in range(1, cote):\n",
    "        current_sum = 0\n",
    "        for j in range(cote):\n",
    "            current_sum += carre[i][j]\n",
    "        if current_sum != first_sum:\n",
    "            return False\n",
    "    return True\n",
    "\n",
    "carre_mag = [[4, 14, 15, 1], [9, 7, 6, 12], [5, 11, 10, 8], [16, 2, 3, 13]]\n",
    "carre_pas_mag = [[4, 14, 15, 1], [9, 7, 6, 12], [5, 11, 10, 8], [16, 2, 7, 13]]\n",
    "print(testLignesEgales(carre_mag))\n",
    "print(testLignesEgales(carre_pas_mag))"
   ]
  },
  {
   "source": [
    "6. Même question mais en testant les colonnes."
   ],
   "cell_type": "markdown",
   "metadata": {}
  },
  {
   "cell_type": "code",
   "execution_count": 42,
   "metadata": {},
   "outputs": [
    {
     "output_type": "stream",
     "name": "stdout",
     "text": [
      "34\n-1\n"
     ]
    }
   ],
   "source": [
    "def testColonnesEgales(carre):\n",
    "    \"\"\" Renvoie la somme des éléments d'une colonne de la liste 2D carre si toutes les colonnes ont la même somme, et -1 sinon \"\"\"\n",
    "    somme1 = carre[0][0] + carre[1][0] + carre[2][0] + carre[3][0]\n",
    "    if somme1 != 34 :\n",
    "        return -1\n",
    "    somme2 = carre[0][1] + carre[1][1] + carre[2][1] + carre[3][1]\n",
    "    if somme2 != 34 :\n",
    "        return -1\n",
    "    somme3 = carre[0][2] + carre[1][2] + carre[2][2] + carre[3][2]\n",
    "    if somme3 != 34 :\n",
    "        return -1\n",
    "    somme4 = carre[0][3] + carre[1][3] + carre[2][3] + carre[3][3]\n",
    "    if somme4 != 34 :\n",
    "        return -1\n",
    "    return somme1\n",
    "        \n",
    "\n",
    "carre_mag = [[4, 14, 15, 1], [9, 7, 6, 12], [5, 11, 10, 8], [16, 2, 3, 13]]\n",
    "carre_pas_mag = [[4, 14, 15, 1], [9, 7, 6, 12], [5, 11, 10, 8], [16, 2, 7, 13]]\n",
    "print(testColonnesEgales(carre_mag))\n",
    "print(testColonnesEgales(carre_pas_mag))"
   ]
  },
  {
   "source": [
    "7. Même question mais en testant les 2 diagonales."
   ],
   "cell_type": "markdown",
   "metadata": {}
  },
  {
   "cell_type": "code",
   "execution_count": 34,
   "metadata": {},
   "outputs": [
    {
     "output_type": "stream",
     "name": "stdout",
     "text": [
      "34\n34\n"
     ]
    }
   ],
   "source": [
    "def testDiagonalesEgales(carre):\n",
    "    \"\"\" Renvoie la somme des éléments d'une diagonale de la liste 2D carre si les 2 diagonales ont la même somme, et -1 sinon \"\"\"\n",
    "    cote = len(carre)\n",
    "    somme1 = 0\n",
    "    somme2 = 0\n",
    "    for i in range(cote) :\n",
    "        somme1 += carre[i][i]\n",
    "    for j in range(cote) :\n",
    "        somme2 += carre[j][cote - j - 1]\n",
    "    if somme1 != somme2 :\n",
    "        return -1\n",
    "    return somme1\n",
    "\n",
    "carre_mag = [[4, 14, 15, 1], [9, 7, 6, 12], [5, 11, 10, 8], [16, 2, 3, 13]]\n",
    "carre_pas_mag = [[4, 14, 15, 1], [9, 7, 6, 12], [5, 11, 10, 8], [16, 2, 7, 13]]\n",
    "print(testDiagonalesEgales(carre_mag))\n",
    "print(testDiagonalesEgales(carre_pas_mag))"
   ]
  },
  {
   "source": [
    "8. Créer une fonction qui teste si un carré est magique. Elle retourne `True` si c'est le cas et `False` sinon."
   ],
   "cell_type": "markdown",
   "metadata": {}
  },
  {
   "cell_type": "code",
   "execution_count": 13,
   "metadata": {},
   "outputs": [
    {
     "output_type": "stream",
     "name": "stdout",
     "text": [
      "True\nFalse\nTrue\n"
     ]
    }
   ],
   "source": [
    "def estCarreMagique(carre):\n",
    "    \"\"\" Renvoie True si c'est un carre magique et False sinon\"\"\"\n",
    "    cote = len(carre)\n",
    "    cst_mag = 0\n",
    "    for h in range(cote) :\n",
    "        cst_mag += carre[0][h] \n",
    "    for i in range(1, cote) :\n",
    "        somme = 0\n",
    "        for j in range(cote) :\n",
    "            somme += carre[i][j]\n",
    "        if cst_mag != somme :\n",
    "            return False\n",
    "    for k in range(cote) :\n",
    "        somme = 0\n",
    "        for l in range(cote) :\n",
    "            somme += carre[l][k]\n",
    "        if cst_mag != somme :\n",
    "            return False\n",
    "    somme = 0\n",
    "    for m in range(cote) :\n",
    "        somme += carre[m][m]\n",
    "    if cst_mag != somme :\n",
    "        return False\n",
    "    somme = 0    \n",
    "    for n in range(cote) :\n",
    "        somme += carre[n][cote - n - 1]\n",
    "    if cst_mag != somme :\n",
    "        return False\n",
    "    return True\n",
    "\n",
    "carre_mag = [[4, 14, 15, 1], [9, 7, 6, 12], [5, 11, 10, 8], [16, 2, 3, 13]]\n",
    "carre_pas_mag = [[4, 14, 15, 1], [9, 7, 6, 12], [5, 11, 10, 8], [16, 2, 7, 13]]\n",
    "carre_test = [[1,1,1,1,1],[1,1,1,1,1],[1,1,1,1,1],[1,1,1,1,1],[1,1,1,1,1]]\n",
    "print(estCarreMagique(carre_mag))\n",
    "print(estCarreMagique(carre_pas_mag))\n",
    "print(estCarreMagique(carre_test))"
   ]
  },
  {
   "source": [
    "9. Un carré d'ordre $n$ est *normal* s'il contient tous les entiers de 1 à $n^2$. Ecrire une fonction qui teste si un carré est normal (pas nécessairement magique)."
   ],
   "cell_type": "markdown",
   "metadata": {}
  },
  {
   "cell_type": "code",
   "execution_count": null,
   "metadata": {},
   "outputs": [],
   "source": []
  },
  {
   "cell_type": "code",
   "execution_count": 14,
   "metadata": {},
   "outputs": [
    {
     "output_type": "stream",
     "name": "stdout",
     "text": [
      "True\nTrue\nFalse\n"
     ]
    }
   ],
   "source": [
    "from math import sqrt\n",
    "\n",
    "def estNormal(carre):\n",
    "    \"\"\" Retourne True si contient toutes les valeurs de 1 à n^2 où n est la taille \n",
    "        du carré, et False sinon \"\"\"\n",
    "    cote = len(carre)\n",
    "    if sqrt(cote) == int(sqrt(cote)) :\n",
    "        return True\n",
    "    else : \n",
    "        return False\n",
    "\n",
    "carre_mag = [[4, 14, 15, 1], [9, 7, 6, 12], [5, 11, 10, 8], [16, 2, 3, 13]]\n",
    "carre_pas_mag = [[4, 14, 15, 1], [9, 7, 6, 12], [5, 11, 10, 8], [16, 2, 7, 13]]\n",
    "carre_test = [[1,1,1,1,1],[1,1,1,1,1],[1,1,1,1,1],[1,1,1,1,1],[1,1,1,1,1]]\n",
    "print(estNormal(carre_mag))\n",
    "print(estNormal(carre_pas_mag))\n",
    "print(estNormal(carre_test))"
   ]
  },
  {
   "cell_type": "raw",
   "metadata": {},
   "source": [
    "Ecrire l'expression qui donne l'avant-dernier chiffre du nombre référencé par la variable `a`."
   ]
  },
  {
   "cell_type": "raw",
   "metadata": {},
   "source": [
    "Ecrire l'expression qui donne le dernier chiffre du nombre référencé par la variable `a`."
   ]
  }
 ],
 "metadata": {
  "kernelspec": {
   "display_name": "Python 3",
   "language": "python",
   "name": "python3"
  },
  "language_info": {
   "codemirror_mode": {
    "name": "ipython",
    "version": 3
   },
   "file_extension": ".py",
   "mimetype": "text/x-python",
   "name": "python",
   "nbconvert_exporter": "python",
   "pygments_lexer": "ipython3",
   "version": "3.8.5-final"
  }
 },
 "nbformat": 4,
 "nbformat_minor": 1
}