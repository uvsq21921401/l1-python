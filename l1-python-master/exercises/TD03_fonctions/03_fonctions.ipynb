{
 "cells": [
  {
   "cell_type": "markdown",
   "metadata": {},
   "source": [
    "# Gestion du temps\n",
    "\n",
    "Nous allons créer un petit logiciel de gestion du temps et des dates.\n",
    "Pour cela nous aurons besoin de créer un certain nombre de fonctions utilitaires.\n",
    "\n",
    "Un temps a le format suivant: (jour: int, heure: int, minute: int, seconde: int).\n",
    "C'est un tuple de 4 éléments. Par exemple (4,3,13,20) correspond à 4 jours, 3 heures, 13 minutes et 20 secondes.\n",
    "Si on une variable temps = (4,3,13,20), pour accéder au premier élément on fait temps\\[0\\] ce qui donne 4,\n",
    "le nombre de jours.\n",
    "\n",
    "Créer la fonction qui prend comme argument le temps et renvoie le nombre de seconde total correspondant à ce temps.\n",
    "Créer la fonction qui prend un nombre de secondes et renvoie le temps correspondante."
   ]
  },
  {
   "cell_type": "markdown",
   "metadata": {},
   "source": [
    "# Instructions Générales\n",
    "\n",
    "Ce TD est à faire en créant un fichier td3.py, que vous éditerez dans VSCode. \n",
    "Vous ne remplirez pas les cellules de ce notebook, mais vous les copierez au fur et à mesure \n",
    "dans votre fichier pour les compléter.\n",
    "\n",
    "Vous respecterez au mieux les règles d'écriture de code, en particulier chaque fonction devra avoir un **docstring** et des commentaires si nécessaire et les noms de variable seront illustratifs de leur usage. Vous utiliserez les outils de débogage (flake8, mypy, debugger, pythontutor ...) pour corriger vos bogues."
   ]
  },
  {
   "cell_type": "code",
   "execution_count": 1,
   "metadata": {},
   "outputs": [
    {
     "output_type": "stream",
     "name": "stdout",
     "text": [
      "<class 'tuple'>\n342094\n1 jours 3 heures 46 minutes 40 secondes\n"
     ]
    }
   ],
   "source": [
    "#temps[0] : jours, temps[1]: minutes, temps[2]: minutes, temps[3]: secondes\n",
    "\n",
    "def tempsEnSeconde(temps):\n",
    "    \"\"\" Renvoie la valeur en seconde de temps donné comme jour, heure, minute, seconde.\"\"\"\n",
    "    tempsEnHeure = temps[0] * 24 + temps[1]\n",
    "    heureEnMinute = tempsEnHeure * 60 + temps[2]\n",
    "    resultatenS = heureEnMinute * 60 + temps[3]\n",
    "    return resultatenS \n",
    "\n",
    "temps = (3,23,1,34)\n",
    "print(type(temps))\n",
    "print(tempsEnSeconde(temps))   \n",
    "\n",
    "def secondeEnTemps(seconde):\n",
    "    \"\"\"Renvoie le temps (jour, heure, minute, seconde) qui correspond au nombre de seconde passé en argument\"\"\"\n",
    "    Seconde_final = seconde % 60\n",
    "    SecondeEnMinute = seconde // 60\n",
    "    Minute = SecondeEnMinute % 60\n",
    "    MinuteEnHeure = SecondeEnMinute // 60\n",
    "    Heure = MinuteEnHeure % 24\n",
    "    Jour = MinuteEnHeure // 24\n",
    "    return (Jour, Heure, Minute, Seconde_final)\n",
    "    \n",
    "temps = secondeEnTemps(100000)\n",
    "print(temps[0],\"jours\",temps[1],\"heures\",temps[2],\"minutes\",temps[3],\"secondes\")"
   ]
  },
  {
   "cell_type": "markdown",
   "metadata": {},
   "source": [
    "Créer un fonction d'affichage d'un temps `afficheTemps`. Attention, les mots jour, heure et seconde doivent être au pluriel s'il y en a plusieurs. S'il y en a zéro, ils ne doivent pas apparaître.\n",
    "`print(message, end=\"\")` permet de ne pas sauter une ligne après un print. \n",
    "Vous pouvez écrire une fonction qui affiche un mot au pluriel ou non, appelée ensuite plusieurs fois par `afficheTemps` pour simplifier votre code.\n"
   ]
  },
  {
   "cell_type": "code",
   "execution_count": 2,
   "metadata": {},
   "outputs": [
    {
     "output_type": "stream",
     "name": "stdout",
     "text": [
      "1 Jour 14 Minutes 23 Secondes \n\n"
     ]
    }
   ],
   "source": [
    "#fonction auxiliaire ici\n",
    "def afficheUnitéTemps(nb, unité):\n",
    "    if nb == 0 :\n",
    "        return\n",
    "    if nb == 1 :\n",
    "        print(nb, unité, end=\" \")\n",
    "        return\n",
    "    if nb > 1 :\n",
    "        print(nb, unité + \"s\", end=\" \")\n",
    "        return\n",
    "\n",
    "def afficheTemps(temps):\n",
    "    afficheUnitéTemps(temps[0], \"Jour\")\n",
    "    afficheUnitéTemps(temps[1], \"Heure\")\n",
    "    afficheUnitéTemps(temps[2], \"Minute\")\n",
    "    afficheUnitéTemps(temps[3], \"Seconde\")\n",
    "    print(\"\\n\")\n",
    "    return\n",
    "    \n",
    "afficheTemps((1,0,14,23))    "
   ]
  },
  {
   "cell_type": "markdown",
   "metadata": {},
   "source": [
    "Ecrire une fonction qui demande à l'utilisateur de rentrer un nombre de jours, d'heures, de minutes et\n",
    "de secondes et qui renvoie un temps. Attention, si l'entrée utilisateur n'est pas correcte, par exemple 80 minutes,\n",
    "afficher un message d'erreur et s'arrêter.\n",
    "\n",
    "(Optionnel) Au lieu d'arêter le programme, demander de rentrer une nouvelle valeur, tant que \n",
    "ce n'est pas une valeur correcte."
   ]
  },
  {
   "cell_type": "code",
   "execution_count": 5,
   "metadata": {},
   "outputs": [
    {
     "output_type": "stream",
     "name": "stdout",
     "text": [
      "1234567 Jours 12 Heures 23 Minutes 43 Secondes \n\n"
     ]
    }
   ],
   "source": [
    "def demandeTemps():\n",
    "    jour = int(input(\"Saisir un nombre\"))\n",
    "    heure = int(input(\"Saisir un nombre\"))\n",
    "    while heure > 24 or heure < 0:\n",
    "        heure = int(input(\"Erreur ! Saisir un nombre entre 0 et 24\"))\n",
    "    minute = int(input(\"Saisir un nombre\"))\n",
    "    while minute < 0 or minute > 60 :\n",
    "        minute = int(input(\"Erreur ! Saisir un nombre entre 0 et 60\"))\n",
    "    seconde = int(input(\"Saisir un nombre\"))\n",
    "    while seconde < 0 or seconde > 60 :\n",
    "        seconde = int(input(\"Erreur ! Saisir un nombre entre 0 et 60\"))\n",
    "    return (jour, heure, minute, seconde)\n",
    "\n",
    "afficheTemps(demandeTemps())"
   ]
  },
  {
   "cell_type": "markdown",
   "metadata": {},
   "source": [
    "On veut être capable d'additionner deux temps. Donner une fonction qui fait ce calcul,\n",
    "en utilisant les fonctions précédentes."
   ]
  },
  {
   "cell_type": "code",
   "execution_count": 6,
   "metadata": {},
   "outputs": [
    {
     "output_type": "stream",
     "name": "stdout",
     "text": [
      "8 Jours 2 Heures 1 Minute 26 Secondes \n\n"
     ]
    }
   ],
   "source": [
    "def sommeTemps(temps1,temps2):\n",
    "    temps1 = tempsEnSeconde(temps1)\n",
    "    temps2 = tempsEnSeconde(temps2)\n",
    "    tempsTotal = temps1 + temps2\n",
    "    afficheTemps(secondeEnTemps(tempsTotal))\n",
    "    return\n",
    "\n",
    "sommeTemps((2,3,4,25),(5,22,57,1))"
   ]
  },
  {
   "cell_type": "markdown",
   "metadata": {},
   "source": [
    "On veut maintenant calculer un pourcentage d'un temps. Par exemple, 20% de\n",
    "2 jours et 36 minutes correspond à 9 heures, 43 minutes et 12 secondes.\n",
    "\n",
    "Implémenter la fonction `proportionTemps` puis appeler cette fonction en échangeant l'ordre des arguments mais en les nommant."
   ]
  },
  {
   "cell_type": "code",
   "execution_count": 7,
   "metadata": {},
   "outputs": [
    {
     "output_type": "stream",
     "name": "stdout",
     "text": [
      "9 Heures 43 Minutes 12 Secondes \n\n"
     ]
    }
   ],
   "source": [
    "\"\"\"calcul un temps - un pourcentage et appeler la fonction en échangeant l'ordre des arguments\"\"\"\n",
    "def proportionTemps(temps,proportion):\n",
    "    if type(proportion) != type(4.0):\n",
    "        (temps, proportion) = (proportion, temps)\n",
    "    temps = tempsEnSeconde(temps)\n",
    "    temps_pourcentage = int(temps * proportion)\n",
    "    return secondeEnTemps(temps_pourcentage)\n",
    "afficheTemps(proportionTemps((2,0,36,0),0.2))\n",
    "#appeler la fonction en échangeant l'ordre des arguments"
   ]
  },
  {
   "cell_type": "markdown",
   "metadata": {},
   "source": [
    "On veut maintenant afficher un temps sous forme de date, en supposant \n",
    "que le temps 0 est le 1 janvier 1970 à 00:00:00.\n",
    "\n",
    "* Implémenter une fonction `tempsEnDate`qui donne la date sous la forme (année, jour, heure, minute, seconde).\n",
    "* Implémenter la fonction `afficheDate`qui affiche la date. \n",
    "* (Optionnel) Gérer également les mois."
   ]
  },
  {
   "cell_type": "code",
   "execution_count": 8,
   "metadata": {},
   "outputs": [
    {
     "output_type": "stream",
     "name": "stdout",
     "text": [
      "11574 Jours 1 Heure 46 Minutes 40 Secondes \n\n2001 Années 251 Jours 1 Heure 46 Minutes 40 Secondes \n\n"
     ]
    }
   ],
   "source": [
    "#Dite si une année est bissextile pour retire le bon nb de jour dans une année\n",
    "def bissextile_1(année, jour):\n",
    "    if année % 4 == 0 and not (année % 100 == 0 and not (année % 400 == 0)):\n",
    "        jour -= 366 #bissextile\n",
    "    else :\n",
    "        jour -= 365 #pas bissextile\n",
    "    return jour\n",
    "\n",
    "def tempsEnDate(temps):\n",
    "    date = [0, temps[0], temps[1], temps[2], temps[3]]\n",
    "    while date[1] > 365 :\n",
    "        date[1] = bissextile_1(date[0], date[1])\n",
    "        date[0] += 1\n",
    "    return date\n",
    "\n",
    "def afficheDate(date = -1):\n",
    "    if (type(date) == (type(0))):\n",
    "        return\n",
    "    afficheUnitéTemps(date[0] + 1970, \"Année\")\n",
    "    afficheUnitéTemps(date[1], \"Jour\")\n",
    "    afficheUnitéTemps(date[2], \"Heure\")\n",
    "    afficheUnitéTemps(date[3], \"Minute\")\n",
    "    afficheUnitéTemps(date[4], \"Seconde\")\n",
    "    print(\"\\n\")\n",
    "    return\n",
    "    \n",
    "temps = secondeEnTemps(1000000000)\n",
    "afficheTemps(temps)\n",
    "afficheDate(tempsEnDate(temps))\n",
    "afficheDate()"
   ]
  },
  {
   "cell_type": "markdown",
   "metadata": {},
   "source": [
    "Il existe des fonctions dans la librairie `time` pour la gestion du temps. En particulier, il existe\n",
    "une fonction `time` qui donne le temps écoulé depuis 1970 en secondes. \n",
    "La trouver avec la [documentation python](https://docs.python.org/fr/3/library/time.html#module-time) et la tester en utilisant `afficheDate`. \n",
    "Tester de la même manière la fonction `time.gmtime` qui réalise une tâche similaire à `tempsEnDate`.\n",
    "Que constatez vous ?"
   ]
  },
  {
   "cell_type": "code",
   "execution_count": 9,
   "metadata": {},
   "outputs": [
    {
     "output_type": "stream",
     "name": "stdout",
     "text": [
      "2020 Années 307.0 Jours 15.0 Heures 29.0 Minutes 23.55593490600586 Secondes \n\n"
     ]
    },
    {
     "output_type": "error",
     "ename": "TypeError",
     "evalue": "an integer is required (got type tuple)",
     "traceback": [
      "\u001b[0;31m---------------------------------------------------------------------------\u001b[0m",
      "\u001b[0;31mTypeError\u001b[0m                                 Traceback (most recent call last)",
      "\u001b[0;32m<ipython-input-9-9826ba029dd5>\u001b[0m in \u001b[0;36m<module>\u001b[0;34m\u001b[0m\n\u001b[1;32m      2\u001b[0m \u001b[0;32mimport\u001b[0m \u001b[0mtime\u001b[0m\u001b[0;34m\u001b[0m\u001b[0;34m\u001b[0m\u001b[0m\n\u001b[1;32m      3\u001b[0m \u001b[0mafficheDate\u001b[0m\u001b[0;34m(\u001b[0m\u001b[0mtempsEnDate\u001b[0m\u001b[0;34m(\u001b[0m\u001b[0msecondeEnTemps\u001b[0m\u001b[0;34m(\u001b[0m\u001b[0mtime\u001b[0m\u001b[0;34m.\u001b[0m\u001b[0mtime\u001b[0m\u001b[0;34m(\u001b[0m\u001b[0;34m)\u001b[0m\u001b[0;34m)\u001b[0m\u001b[0;34m)\u001b[0m\u001b[0;34m)\u001b[0m\u001b[0;34m\u001b[0m\u001b[0;34m\u001b[0m\u001b[0m\n\u001b[0;32m----> 4\u001b[0;31m \u001b[0mafficheDate\u001b[0m\u001b[0;34m(\u001b[0m\u001b[0mtime\u001b[0m\u001b[0;34m.\u001b[0m\u001b[0mgmtime\u001b[0m\u001b[0;34m(\u001b[0m\u001b[0msecondeEnTemps\u001b[0m\u001b[0;34m(\u001b[0m\u001b[0mtime\u001b[0m\u001b[0;34m.\u001b[0m\u001b[0mtime\u001b[0m\u001b[0;34m(\u001b[0m\u001b[0;34m)\u001b[0m\u001b[0;34m)\u001b[0m\u001b[0;34m)\u001b[0m\u001b[0;34m)\u001b[0m\u001b[0;34m\u001b[0m\u001b[0;34m\u001b[0m\u001b[0m\n\u001b[0m\u001b[1;32m      5\u001b[0m \u001b[0;31m#Elle ne s'exécute pas car time.gmtime return une struct et pas une liste !!\u001b[0m\u001b[0;34m\u001b[0m\u001b[0;34m\u001b[0m\u001b[0;34m\u001b[0m\u001b[0m\n",
      "\u001b[0;31mTypeError\u001b[0m: an integer is required (got type tuple)"
     ]
    }
   ],
   "source": [
    "#tester ici les fonctions de la librairie time\n",
    "import time\n",
    "afficheDate(tempsEnDate(secondeEnTemps(time.time())))\n",
    "afficheDate(time.gmtime(secondeEnTemps(time.time())))\n",
    "#Elle ne s'exécute pas car time.gmtime return une struct et pas une liste !!"
   ]
  },
  {
   "cell_type": "markdown",
   "metadata": {},
   "source": [
    "Attention, tous les 4 ans les années sont bisextiles (un jour de plus) sauf les multiples de 100 qui ne sont pas des multiples de 400.\n",
    "Donner un code qui prend un nombre de jours et affiche toutes les années bisextiles depuis 1 janvier 2020 à 00:00:00 jusqu'à la fin de ces jours."
   ]
  },
  {
   "cell_type": "code",
   "execution_count": 10,
   "metadata": {},
   "outputs": [
    {
     "output_type": "stream",
     "name": "stdout",
     "text": [
      "2020\n2024\n2028\n2032\n2036\n2040\n2044\n2048\n2052\n2056\n2060\n2064\n2068\n2072\n"
     ]
    }
   ],
   "source": [
    "def bisextile(jour):\n",
    "    année = 2020\n",
    "    while jour > 365 :\n",
    "        if année % 4 == 0 and not (année % 100 == 0 and not (année % 400 == 0)):\n",
    "            jour -= 366\n",
    "            print(année)\n",
    "        else :\n",
    "            jour -=365\n",
    "        année += 1\n",
    "    return\n",
    "        \n",
    "bisextile(20000)"
   ]
  },
  {
   "cell_type": "markdown",
   "metadata": {},
   "source": [
    "Implémenter une fonction `nombreBisextile` qui calcule le nombre d'années bisextiles pour un nombre de jour donnés pour corriger votre fonction de calcul de la date."
   ]
  },
  {
   "cell_type": "code",
   "execution_count": 11,
   "metadata": {},
   "outputs": [
    {
     "output_type": "stream",
     "name": "stdout",
     "text": [
      "11574 Jours 1 Heure 46 Minutes 40 Secondes \n\n2001 Années 251 Jours 1 Heure 46 Minutes 40 Secondes \n\n"
     ]
    }
   ],
   "source": [
    "def nombreBisextile(jour):\n",
    "    année = 1970\n",
    "    nb_B = 0\n",
    "    while jour > 365 :\n",
    "        if année % 4 == 0 and not (année % 100 == 0 and not (année % 400 == 0)):\n",
    "            jour -= 366\n",
    "            nb_B += 1 \n",
    "        else :\n",
    "            jour -=365\n",
    "        année += 1\n",
    "    return nb_B\n",
    "\n",
    "def tempsEnDateBisextile(temps):\n",
    "    temps = [0, temps[0], temps[1], temps[2], temps[3]]\n",
    "    nb_B = nombreBisextile(temps[1])\n",
    "    while temps[1] > 365 :\n",
    "        temps[1] -= 365\n",
    "        temps[0] += 1\n",
    "    temps[1] -= nb_B\n",
    "    return temps\n",
    "   \n",
    "temps = secondeEnTemps(1000000000)\n",
    "afficheTemps(temps)\n",
    "afficheDate(tempsEnDateBisextile(temps))"
   ]
  },
  {
   "cell_type": "markdown",
   "metadata": {},
   "source": [
    "Ajouter des valeurs par défaut dans le code de `afficheDate` afin de pouvoir ommettre\n",
    "l'argument de ces fonctions. Dans ce cas là, on affichera la date actuelle en utilisant la fonction `time`."
   ]
  },
  {
   "cell_type": "markdown",
   "metadata": {},
   "source": [
    "On va maintenant inspecter notre code pour améliorer sa qualité:\n",
    "\n",
    "* Regarder tous les warnings donnés par flake8 et essayer de les régler.\n",
    "* Utiliser le debugger (F5) pour étudier le fonctionnement de votre fonction nombreBisextile.\n",
    "* Mettre les annotations de type des arguments et du retour de la fonction pour nombreBisextile et une autre fonction de votre choix. Vérifier avec mypy que tout fonctionne bien."
   ]
  },
  {
   "cell_type": "markdown",
   "metadata": {},
   "source": [
    "Donner une fonction qui vérifie la charge horaire d'un employé, donnée sous forme d'une liste de temps travaillé chaque semaine dans un mois. Il ne faut pas dépasser 48h par semaine et 140h par mois (qu'on considère ici de 4 semaines).\n",
    "\n",
    "(Optionnel) S'adapter à une liste qui peut contenir plusieurs mois."
   ]
  },
  {
   "cell_type": "code",
   "execution_count": 12,
   "metadata": {},
   "outputs": [
    {
     "output_type": "execute_result",
     "data": {
      "text/plain": [
       "True"
      ]
     },
     "metadata": {},
     "execution_count": 12
    }
   ],
   "source": [
    "def verifie(liste_temps):\n",
    "    secondeTotal = 0\n",
    "    for i in liste_temps :\n",
    "        s = tempsEnSeconde(i)\n",
    "        if s > 3600 * 48 :\n",
    "            return False\n",
    "        secondeTotal += s\n",
    "    if secondeTotal > 3600 * 140 :\n",
    "        return False\n",
    "    return True\n",
    "\n",
    "\n",
    "liste_temps = [[1,2,39,34],[0,1,9,4],[0,29,39,51],[0,31,13,46]]\n",
    "verifie(liste_temps)"
   ]
  },
  {
   "cell_type": "code",
   "execution_count": null,
   "metadata": {},
   "outputs": [],
   "source": []
  }
 ],
 "metadata": {
  "kernelspec": {
   "display_name": "Python 3",
   "language": "python",
   "name": "python3"
  },
  "language_info": {
   "codemirror_mode": {
    "name": "ipython",
    "version": 3
   },
   "file_extension": ".py",
   "mimetype": "text/x-python",
   "name": "python",
   "nbconvert_exporter": "python",
   "pygments_lexer": "ipython3",
   "version": "3.8.5-final"
  }
 },
 "nbformat": 4,
 "nbformat_minor": 4
}